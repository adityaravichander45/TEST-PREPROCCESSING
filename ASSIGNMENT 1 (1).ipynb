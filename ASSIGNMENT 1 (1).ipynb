{
 "cells": [
  {
   "cell_type": "code",
   "execution_count": 1,
   "id": "58ee692e",
   "metadata": {},
   "outputs": [],
   "source": [
    "import pandas as pd\n",
    "import numpy as np\n",
    "\n",
    "from sklearn.preprocessing import OneHotEncoder,MinMaxScaler,StandardScaler"
   ]
  },
  {
   "cell_type": "code",
   "execution_count": 2,
   "id": "d8084e77",
   "metadata": {},
   "outputs": [
    {
     "data": {
      "text/html": [
       "<div>\n",
       "<style scoped>\n",
       "    .dataframe tbody tr th:only-of-type {\n",
       "        vertical-align: middle;\n",
       "    }\n",
       "\n",
       "    .dataframe tbody tr th {\n",
       "        vertical-align: top;\n",
       "    }\n",
       "\n",
       "    .dataframe thead th {\n",
       "        text-align: right;\n",
       "    }\n",
       "</style>\n",
       "<table border=\"1\" class=\"dataframe\">\n",
       "  <thead>\n",
       "    <tr style=\"text-align: right;\">\n",
       "      <th></th>\n",
       "      <th>Age</th>\n",
       "      <th>Income</th>\n",
       "      <th>Is Student</th>\n",
       "      <th>Num Children</th>\n",
       "      <th>Temperature</th>\n",
       "      <th>Rating</th>\n",
       "    </tr>\n",
       "  </thead>\n",
       "  <tbody>\n",
       "    <tr>\n",
       "      <th>0</th>\n",
       "      <td>43.0</td>\n",
       "      <td>45893.41</td>\n",
       "      <td>True</td>\n",
       "      <td>0.0</td>\n",
       "      <td>38.2</td>\n",
       "      <td>2.6</td>\n",
       "    </tr>\n",
       "    <tr>\n",
       "      <th>1</th>\n",
       "      <td>56.0</td>\n",
       "      <td>69663.07</td>\n",
       "      <td>True</td>\n",
       "      <td>1.0</td>\n",
       "      <td>38.7</td>\n",
       "      <td>3.2</td>\n",
       "    </tr>\n",
       "    <tr>\n",
       "      <th>2</th>\n",
       "      <td>NaN</td>\n",
       "      <td>45124.06</td>\n",
       "      <td>False</td>\n",
       "      <td>5.0</td>\n",
       "      <td>36.9</td>\n",
       "      <td>3.9</td>\n",
       "    </tr>\n",
       "    <tr>\n",
       "      <th>3</th>\n",
       "      <td>37.0</td>\n",
       "      <td>76724.60</td>\n",
       "      <td>False</td>\n",
       "      <td>2.0</td>\n",
       "      <td>41.6</td>\n",
       "      <td>2.5</td>\n",
       "    </tr>\n",
       "    <tr>\n",
       "      <th>4</th>\n",
       "      <td>53.0</td>\n",
       "      <td>58343.03</td>\n",
       "      <td>False</td>\n",
       "      <td>1.0</td>\n",
       "      <td>36.5</td>\n",
       "      <td>3.3</td>\n",
       "    </tr>\n",
       "    <tr>\n",
       "      <th>...</th>\n",
       "      <td>...</td>\n",
       "      <td>...</td>\n",
       "      <td>...</td>\n",
       "      <td>...</td>\n",
       "      <td>...</td>\n",
       "      <td>...</td>\n",
       "    </tr>\n",
       "    <tr>\n",
       "      <th>99</th>\n",
       "      <td>42.0</td>\n",
       "      <td>46673.04</td>\n",
       "      <td>False</td>\n",
       "      <td>5.0</td>\n",
       "      <td>38.8</td>\n",
       "      <td>10.9</td>\n",
       "    </tr>\n",
       "    <tr>\n",
       "      <th>100</th>\n",
       "      <td>35.0</td>\n",
       "      <td>27089.59</td>\n",
       "      <td>True</td>\n",
       "      <td>5.0</td>\n",
       "      <td>35.3</td>\n",
       "      <td>1.6</td>\n",
       "    </tr>\n",
       "    <tr>\n",
       "      <th>101</th>\n",
       "      <td>61.0</td>\n",
       "      <td>83082.63</td>\n",
       "      <td>True</td>\n",
       "      <td>4.0</td>\n",
       "      <td>35.6</td>\n",
       "      <td>3.7</td>\n",
       "    </tr>\n",
       "    <tr>\n",
       "      <th>102</th>\n",
       "      <td>39.0</td>\n",
       "      <td>61868.49</td>\n",
       "      <td>True</td>\n",
       "      <td>5.0</td>\n",
       "      <td>37.1</td>\n",
       "      <td>3.8</td>\n",
       "    </tr>\n",
       "    <tr>\n",
       "      <th>103</th>\n",
       "      <td>47.0</td>\n",
       "      <td>59526.59</td>\n",
       "      <td>False</td>\n",
       "      <td>3.0</td>\n",
       "      <td>36.7</td>\n",
       "      <td>3.2</td>\n",
       "    </tr>\n",
       "  </tbody>\n",
       "</table>\n",
       "<p>104 rows × 6 columns</p>\n",
       "</div>"
      ],
      "text/plain": [
       "      Age    Income Is Student  Num Children  Temperature  Rating\n",
       "0    43.0  45893.41       True           0.0         38.2     2.6\n",
       "1    56.0  69663.07       True           1.0         38.7     3.2\n",
       "2     NaN  45124.06      False           5.0         36.9     3.9\n",
       "3    37.0  76724.60      False           2.0         41.6     2.5\n",
       "4    53.0  58343.03      False           1.0         36.5     3.3\n",
       "..    ...       ...        ...           ...          ...     ...\n",
       "99   42.0  46673.04      False           5.0         38.8    10.9\n",
       "100  35.0  27089.59       True           5.0         35.3     1.6\n",
       "101  61.0  83082.63       True           4.0         35.6     3.7\n",
       "102  39.0  61868.49       True           5.0         37.1     3.8\n",
       "103  47.0  59526.59      False           3.0         36.7     3.2\n",
       "\n",
       "[104 rows x 6 columns]"
      ]
     },
     "execution_count": 2,
     "metadata": {},
     "output_type": "execute_result"
    }
   ],
   "source": [
    "data=pd.read_csv(\"student_assignment.csv\")\n",
    "data"
   ]
  },
  {
   "cell_type": "code",
   "execution_count": 3,
   "id": "1f6cc2ca",
   "metadata": {},
   "outputs": [
    {
     "data": {
      "text/plain": [
       "(104, 6)"
      ]
     },
     "execution_count": 3,
     "metadata": {},
     "output_type": "execute_result"
    }
   ],
   "source": [
    "data.shape"
   ]
  },
  {
   "cell_type": "code",
   "execution_count": 4,
   "id": "c9450cff",
   "metadata": {},
   "outputs": [
    {
     "data": {
      "text/html": [
       "<div>\n",
       "<style scoped>\n",
       "    .dataframe tbody tr th:only-of-type {\n",
       "        vertical-align: middle;\n",
       "    }\n",
       "\n",
       "    .dataframe tbody tr th {\n",
       "        vertical-align: top;\n",
       "    }\n",
       "\n",
       "    .dataframe thead th {\n",
       "        text-align: right;\n",
       "    }\n",
       "</style>\n",
       "<table border=\"1\" class=\"dataframe\">\n",
       "  <thead>\n",
       "    <tr style=\"text-align: right;\">\n",
       "      <th></th>\n",
       "      <th>Age</th>\n",
       "      <th>Income</th>\n",
       "      <th>Num Children</th>\n",
       "      <th>Temperature</th>\n",
       "      <th>Rating</th>\n",
       "    </tr>\n",
       "  </thead>\n",
       "  <tbody>\n",
       "    <tr>\n",
       "      <th>count</th>\n",
       "      <td>103.000000</td>\n",
       "      <td>104.000000</td>\n",
       "      <td>101.000000</td>\n",
       "      <td>104.000000</td>\n",
       "      <td>104.000000</td>\n",
       "    </tr>\n",
       "    <tr>\n",
       "      <th>mean</th>\n",
       "      <td>52.932039</td>\n",
       "      <td>58456.756442</td>\n",
       "      <td>3.059406</td>\n",
       "      <td>38.399038</td>\n",
       "      <td>3.295192</td>\n",
       "    </tr>\n",
       "    <tr>\n",
       "      <th>std</th>\n",
       "      <td>66.249567</td>\n",
       "      <td>22150.934058</td>\n",
       "      <td>4.046781</td>\n",
       "      <td>2.083010</td>\n",
       "      <td>1.448426</td>\n",
       "    </tr>\n",
       "    <tr>\n",
       "      <th>min</th>\n",
       "      <td>18.000000</td>\n",
       "      <td>20955.370000</td>\n",
       "      <td>0.000000</td>\n",
       "      <td>35.200000</td>\n",
       "      <td>-3.200000</td>\n",
       "    </tr>\n",
       "    <tr>\n",
       "      <th>25%</th>\n",
       "      <td>31.500000</td>\n",
       "      <td>40065.965000</td>\n",
       "      <td>2.000000</td>\n",
       "      <td>36.700000</td>\n",
       "      <td>2.600000</td>\n",
       "    </tr>\n",
       "    <tr>\n",
       "      <th>50%</th>\n",
       "      <td>42.000000</td>\n",
       "      <td>58014.560000</td>\n",
       "      <td>3.000000</td>\n",
       "      <td>38.400000</td>\n",
       "      <td>3.400000</td>\n",
       "    </tr>\n",
       "    <tr>\n",
       "      <th>75%</th>\n",
       "      <td>53.500000</td>\n",
       "      <td>74489.015000</td>\n",
       "      <td>4.000000</td>\n",
       "      <td>39.925000</td>\n",
       "      <td>4.100000</td>\n",
       "    </tr>\n",
       "    <tr>\n",
       "      <th>max</th>\n",
       "      <td>511.000000</td>\n",
       "      <td>99072.180000</td>\n",
       "      <td>40.000000</td>\n",
       "      <td>41.900000</td>\n",
       "      <td>10.900000</td>\n",
       "    </tr>\n",
       "  </tbody>\n",
       "</table>\n",
       "</div>"
      ],
      "text/plain": [
       "              Age        Income  Num Children  Temperature      Rating\n",
       "count  103.000000    104.000000    101.000000   104.000000  104.000000\n",
       "mean    52.932039  58456.756442      3.059406    38.399038    3.295192\n",
       "std     66.249567  22150.934058      4.046781     2.083010    1.448426\n",
       "min     18.000000  20955.370000      0.000000    35.200000   -3.200000\n",
       "25%     31.500000  40065.965000      2.000000    36.700000    2.600000\n",
       "50%     42.000000  58014.560000      3.000000    38.400000    3.400000\n",
       "75%     53.500000  74489.015000      4.000000    39.925000    4.100000\n",
       "max    511.000000  99072.180000     40.000000    41.900000   10.900000"
      ]
     },
     "execution_count": 4,
     "metadata": {},
     "output_type": "execute_result"
    }
   ],
   "source": [
    "data.describe()"
   ]
  },
  {
   "cell_type": "code",
   "execution_count": 5,
   "id": "ddff5e0a",
   "metadata": {},
   "outputs": [
    {
     "name": "stdout",
     "output_type": "stream",
     "text": [
      "<class 'pandas.core.frame.DataFrame'>\n",
      "RangeIndex: 104 entries, 0 to 103\n",
      "Data columns (total 6 columns):\n",
      " #   Column        Non-Null Count  Dtype  \n",
      "---  ------        --------------  -----  \n",
      " 0   Age           103 non-null    float64\n",
      " 1   Income        104 non-null    float64\n",
      " 2   Is Student    104 non-null    object \n",
      " 3   Num Children  101 non-null    float64\n",
      " 4   Temperature   104 non-null    float64\n",
      " 5   Rating        104 non-null    float64\n",
      "dtypes: float64(5), object(1)\n",
      "memory usage: 5.0+ KB\n"
     ]
    }
   ],
   "source": [
    "data.info()"
   ]
  },
  {
   "cell_type": "code",
   "execution_count": 6,
   "id": "8662cd7b",
   "metadata": {},
   "outputs": [
    {
     "data": {
      "text/plain": [
       "3"
      ]
     },
     "execution_count": 6,
     "metadata": {},
     "output_type": "execute_result"
    }
   ],
   "source": [
    "data.duplicated().sum()"
   ]
  },
  {
   "cell_type": "code",
   "execution_count": 7,
   "id": "e8b1e11d",
   "metadata": {},
   "outputs": [],
   "source": [
    "data=data.drop_duplicates()"
   ]
  },
  {
   "cell_type": "code",
   "execution_count": 8,
   "id": "12c5ab1e",
   "metadata": {},
   "outputs": [
    {
     "data": {
      "text/plain": [
       "(101, 6)"
      ]
     },
     "execution_count": 8,
     "metadata": {},
     "output_type": "execute_result"
    }
   ],
   "source": [
    "data.shape"
   ]
  },
  {
   "cell_type": "code",
   "execution_count": 9,
   "id": "7feab96c",
   "metadata": {},
   "outputs": [
    {
     "data": {
      "text/plain": [
       "Age             1\n",
       "Income          0\n",
       "Is Student      0\n",
       "Num Children    3\n",
       "Temperature     0\n",
       "Rating          0\n",
       "dtype: int64"
      ]
     },
     "execution_count": 9,
     "metadata": {},
     "output_type": "execute_result"
    }
   ],
   "source": [
    "data.isna().sum()"
   ]
  },
  {
   "cell_type": "code",
   "execution_count": 10,
   "id": "157a9362",
   "metadata": {},
   "outputs": [
    {
     "data": {
      "text/plain": [
       "53.31"
      ]
     },
     "execution_count": 10,
     "metadata": {},
     "output_type": "execute_result"
    }
   ],
   "source": [
    "data[\"Age\"].mean()"
   ]
  },
  {
   "cell_type": "code",
   "execution_count": 11,
   "id": "cce5154a",
   "metadata": {},
   "outputs": [
    {
     "data": {
      "text/plain": [
       "42.0"
      ]
     },
     "execution_count": 11,
     "metadata": {},
     "output_type": "execute_result"
    }
   ],
   "source": [
    "data[\"Age\"].median()"
   ]
  },
  {
   "cell_type": "code",
   "execution_count": 12,
   "id": "5d389cd4",
   "metadata": {},
   "outputs": [
    {
     "data": {
      "text/plain": [
       "<Axes: >"
      ]
     },
     "execution_count": 12,
     "metadata": {},
     "output_type": "execute_result"
    },
    {
     "data": {
      "image/png": "[encoded data removed]",
      "text/plain": [
       "<Figure size 640x480 with 1 Axes>"
      ]
     },
     "metadata": {},
     "output_type": "display_data"
    }
   ],
   "source": [
    "data[\"Age\"].plot(kind='box')"
   ]
  },
  {
   "cell_type": "code",
   "execution_count": 13,
   "id": "516b2f6e",
   "metadata": {},
   "outputs": [
    {
     "name": "stderr",
     "output_type": "stream",
     "text": [
      "C:\\Users\\radia\\AppData\\Local\\Temp\\ipykernel_17872\\1774197499.py:1: SettingWithCopyWarning: \n",
      "A value is trying to be set on a copy of a slice from a DataFrame.\n",
      "Try using .loc[row_indexer,col_indexer] = value instead\n",
      "\n",
      "See the caveats in the documentation: https://pandas.pydata.org/pandas-docs/stable/user_guide/indexing.html#returning-a-view-versus-a-copy\n",
      "  data['Age']=data['Age'].fillna(data['Age'].median())\n"
     ]
    }
   ],
   "source": [
    "data['Age']=data['Age'].fillna(data['Age'].median())"
   ]
  },
  {
   "cell_type": "code",
   "execution_count": 14,
   "id": "e601ccab",
   "metadata": {},
   "outputs": [
    {
     "data": {
      "text/plain": [
       "0"
      ]
     },
     "execution_count": 14,
     "metadata": {},
     "output_type": "execute_result"
    }
   ],
   "source": [
    "data[\"Age\"].isna().sum()"
   ]
  },
  {
   "cell_type": "code",
   "execution_count": 15,
   "id": "b2d73247",
   "metadata": {},
   "outputs": [],
   "source": [
    "outliers=[]\n",
    "def detect_outlier(insurance):\n",
    "    threshold=3\n",
    "    mean_1=np.mean(insurance)\n",
    "    std_1=np.std(insurance)\n",
    "    \n",
    "    for y in insurance:\n",
    "        z_score=(y-mean_1)/std_1\n",
    "        if np.abs(z_score)>threshold:\n",
    "            outliers.append(y)\n",
    "    return outliers\n",
    "    "
   ]
  },
  {
   "cell_type": "code",
   "execution_count": 16,
   "id": "ac3c5140",
   "metadata": {},
   "outputs": [
    {
     "name": "stderr",
     "output_type": "stream",
     "text": [
      "C:\\Users\\radia\\AppData\\Local\\Temp\\ipykernel_17872\\1052348715.py:1: SettingWithCopyWarning: \n",
      "A value is trying to be set on a copy of a slice from a DataFrame.\n",
      "Try using .loc[row_indexer,col_indexer] = value instead\n",
      "\n",
      "See the caveats in the documentation: https://pandas.pydata.org/pandas-docs/stable/user_guide/indexing.html#returning-a-view-versus-a-copy\n",
      "  data[\"Age\"]=data[\"Age\"].astype('int')\n"
     ]
    }
   ],
   "source": [
    "data[\"Age\"]=data[\"Age\"].astype('int')"
   ]
  },
  {
   "cell_type": "code",
   "execution_count": 17,
   "id": "221356b4",
   "metadata": {},
   "outputs": [
    {
     "data": {
      "text/html": [
       "<div>\n",
       "<style scoped>\n",
       "    .dataframe tbody tr th:only-of-type {\n",
       "        vertical-align: middle;\n",
       "    }\n",
       "\n",
       "    .dataframe tbody tr th {\n",
       "        vertical-align: top;\n",
       "    }\n",
       "\n",
       "    .dataframe thead th {\n",
       "        text-align: right;\n",
       "    }\n",
       "</style>\n",
       "<table border=\"1\" class=\"dataframe\">\n",
       "  <thead>\n",
       "    <tr style=\"text-align: right;\">\n",
       "      <th></th>\n",
       "      <th>Age</th>\n",
       "      <th>Income</th>\n",
       "      <th>Num Children</th>\n",
       "      <th>Temperature</th>\n",
       "      <th>Rating</th>\n",
       "    </tr>\n",
       "  </thead>\n",
       "  <tbody>\n",
       "    <tr>\n",
       "      <th>0</th>\n",
       "      <td>511.0</td>\n",
       "      <td>511.0</td>\n",
       "      <td>511.0</td>\n",
       "      <td>511.0</td>\n",
       "      <td>511.0</td>\n",
       "    </tr>\n",
       "    <tr>\n",
       "      <th>1</th>\n",
       "      <td>301.0</td>\n",
       "      <td>301.0</td>\n",
       "      <td>301.0</td>\n",
       "      <td>301.0</td>\n",
       "      <td>301.0</td>\n",
       "    </tr>\n",
       "    <tr>\n",
       "      <th>2</th>\n",
       "      <td>438.0</td>\n",
       "      <td>438.0</td>\n",
       "      <td>438.0</td>\n",
       "      <td>438.0</td>\n",
       "      <td>438.0</td>\n",
       "    </tr>\n",
       "    <tr>\n",
       "      <th>3</th>\n",
       "      <td>40.0</td>\n",
       "      <td>40.0</td>\n",
       "      <td>40.0</td>\n",
       "      <td>40.0</td>\n",
       "      <td>40.0</td>\n",
       "    </tr>\n",
       "    <tr>\n",
       "      <th>4</th>\n",
       "      <td>-3.2</td>\n",
       "      <td>-3.2</td>\n",
       "      <td>-3.2</td>\n",
       "      <td>-3.2</td>\n",
       "      <td>-3.2</td>\n",
       "    </tr>\n",
       "    <tr>\n",
       "      <th>5</th>\n",
       "      <td>10.9</td>\n",
       "      <td>10.9</td>\n",
       "      <td>10.9</td>\n",
       "      <td>10.9</td>\n",
       "      <td>10.9</td>\n",
       "    </tr>\n",
       "  </tbody>\n",
       "</table>\n",
       "</div>"
      ],
      "text/plain": [
       "     Age  Income  Num Children  Temperature  Rating\n",
       "0  511.0   511.0         511.0        511.0   511.0\n",
       "1  301.0   301.0         301.0        301.0   301.0\n",
       "2  438.0   438.0         438.0        438.0   438.0\n",
       "3   40.0    40.0          40.0         40.0    40.0\n",
       "4   -3.2    -3.2          -3.2         -3.2    -3.2\n",
       "5   10.9    10.9          10.9         10.9    10.9"
      ]
     },
     "execution_count": 17,
     "metadata": {},
     "output_type": "execute_result"
    }
   ],
   "source": [
    "data.select_dtypes(include=np.number).apply(detect_outlier)"
   ]
  },
  {
   "cell_type": "code",
   "execution_count": 18,
   "id": "25596613",
   "metadata": {},
   "outputs": [
    {
     "name": "stdout",
     "output_type": "stream",
     "text": [
      "Age\n",
      "Outliers= 7     511\n",
      "19    301\n",
      "47    438\n",
      "Name: Age, dtype: int32\n",
      "Income\n",
      "Outliers= Series([], Name: Income, dtype: float64)\n",
      "Num Children\n",
      "Outliers= 82    40.0\n",
      "Name: Num Children, dtype: float64\n",
      "Temperature\n",
      "Outliers= Series([], Name: Temperature, dtype: float64)\n"
     ]
    }
   ],
   "source": [
    "for col_name in data.select_dtypes(include=np.number).columns[:-1]:\n",
    "    print(col_name)\n",
    "    q1=data[col_name].quantile(0.25)\n",
    "    q3=data[col_name].quantile(0.75)\n",
    "    iqr=q3-q1\n",
    "    \n",
    "    low=q1-1.5*iqr\n",
    "    high=q3+1.5*iqr\n",
    "    print(\"Outliers=\",data.loc[(data[col_name]<low)|(data[col_name]>high),col_name] )"
   ]
  },
  {
   "cell_type": "code",
   "execution_count": 19,
   "id": "3adf0ff1",
   "metadata": {},
   "outputs": [],
   "source": [
    "data=data[~(data[\"Age\"]>100)]"
   ]
  },
  {
   "cell_type": "code",
   "execution_count": 20,
   "id": "00b1a198",
   "metadata": {},
   "outputs": [
    {
     "data": {
      "text/plain": [
       "42.07142857142857"
      ]
     },
     "execution_count": 20,
     "metadata": {},
     "output_type": "execute_result"
    }
   ],
   "source": [
    "data[\"Age\"].mean()"
   ]
  },
  {
   "cell_type": "code",
   "execution_count": 21,
   "id": "541f5cd1",
   "metadata": {},
   "outputs": [
    {
     "data": {
      "text/plain": [
       "41.5"
      ]
     },
     "execution_count": 21,
     "metadata": {},
     "output_type": "execute_result"
    }
   ],
   "source": [
    "data[\"Age\"].median()"
   ]
  },
  {
   "cell_type": "code",
   "execution_count": 22,
   "id": "0a82b4da",
   "metadata": {},
   "outputs": [
    {
     "data": {
      "text/plain": [
       "<Axes: >"
      ]
     },
     "execution_count": 22,
     "metadata": {},
     "output_type": "execute_result"
    },
    {
     "data": {
      "image/png": "[encoded data removed]",
      "text/plain": [
       "<Figure size 640x480 with 1 Axes>"
      ]
     },
     "metadata": {},
     "output_type": "display_data"
    }
   ],
   "source": [
    "data[\"Age\"].plot(kind=\"box\")"
   ]
  },
  {
   "cell_type": "code",
   "execution_count": 23,
   "id": "448f4dfa",
   "metadata": {},
   "outputs": [
    {
     "data": {
      "text/plain": [
       "Age             0\n",
       "Income          0\n",
       "Is Student      0\n",
       "Num Children    2\n",
       "Temperature     0\n",
       "Rating          0\n",
       "dtype: int64"
      ]
     },
     "execution_count": 23,
     "metadata": {},
     "output_type": "execute_result"
    }
   ],
   "source": [
    "data.isna().sum()"
   ]
  },
  {
   "cell_type": "code",
   "execution_count": 24,
   "id": "e651dff6",
   "metadata": {},
   "outputs": [
    {
     "data": {
      "text/plain": [
       "3.0520833333333335"
      ]
     },
     "execution_count": 24,
     "metadata": {},
     "output_type": "execute_result"
    }
   ],
   "source": [
    "data[\"Num Children\"].mean()"
   ]
  },
  {
   "cell_type": "code",
   "execution_count": 25,
   "id": "f3b95767",
   "metadata": {},
   "outputs": [
    {
     "data": {
      "text/plain": [
       "3.0"
      ]
     },
     "execution_count": 25,
     "metadata": {},
     "output_type": "execute_result"
    }
   ],
   "source": [
    "data[\"Num Children\"].median()"
   ]
  },
  {
   "cell_type": "code",
   "execution_count": 26,
   "id": "bdeb5801",
   "metadata": {},
   "outputs": [
    {
     "data": {
      "text/plain": [
       "<Axes: >"
      ]
     },
     "execution_count": 26,
     "metadata": {},
     "output_type": "execute_result"
    },
    {
     "data": {
      "image/png": "[encoded data removed]",
      "text/plain": [
       "<Figure size 640x480 with 1 Axes>"
      ]
     },
     "metadata": {},
     "output_type": "display_data"
    }
   ],
   "source": [
    "data[\"Num Children\"].plot(kind=\"box\")"
   ]
  },
  {
   "cell_type": "code",
   "execution_count": 27,
   "id": "f23976b7",
   "metadata": {},
   "outputs": [
    {
     "data": {
      "text/plain": [
       "(98, 6)"
      ]
     },
     "execution_count": 27,
     "metadata": {},
     "output_type": "execute_result"
    }
   ],
   "source": [
    "data.shape"
   ]
  },
  {
   "cell_type": "code",
   "execution_count": 28,
   "id": "0e469f1e",
   "metadata": {},
   "outputs": [],
   "source": [
    "data_num = data.select_dtypes(include = np.number)"
   ]
  },
  {
   "cell_type": "code",
   "execution_count": 29,
   "id": "a3c9ba76",
   "metadata": {},
   "outputs": [
    {
     "data": {
      "text/html": [
       "<div>\n",
       "<style scoped>\n",
       "    .dataframe tbody tr th:only-of-type {\n",
       "        vertical-align: middle;\n",
       "    }\n",
       "\n",
       "    .dataframe tbody tr th {\n",
       "        vertical-align: top;\n",
       "    }\n",
       "\n",
       "    .dataframe thead th {\n",
       "        text-align: right;\n",
       "    }\n",
       "</style>\n",
       "<table border=\"1\" class=\"dataframe\">\n",
       "  <thead>\n",
       "    <tr style=\"text-align: right;\">\n",
       "      <th></th>\n",
       "      <th>Age</th>\n",
       "      <th>Income</th>\n",
       "      <th>Num Children</th>\n",
       "      <th>Temperature</th>\n",
       "      <th>Rating</th>\n",
       "    </tr>\n",
       "  </thead>\n",
       "  <tbody>\n",
       "    <tr>\n",
       "      <th>0</th>\n",
       "      <td>43</td>\n",
       "      <td>45893.41</td>\n",
       "      <td>0.0</td>\n",
       "      <td>38.2</td>\n",
       "      <td>2.6</td>\n",
       "    </tr>\n",
       "    <tr>\n",
       "      <th>1</th>\n",
       "      <td>56</td>\n",
       "      <td>69663.07</td>\n",
       "      <td>1.0</td>\n",
       "      <td>38.7</td>\n",
       "      <td>3.2</td>\n",
       "    </tr>\n",
       "    <tr>\n",
       "      <th>2</th>\n",
       "      <td>42</td>\n",
       "      <td>45124.06</td>\n",
       "      <td>5.0</td>\n",
       "      <td>36.9</td>\n",
       "      <td>3.9</td>\n",
       "    </tr>\n",
       "    <tr>\n",
       "      <th>3</th>\n",
       "      <td>37</td>\n",
       "      <td>76724.60</td>\n",
       "      <td>2.0</td>\n",
       "      <td>41.6</td>\n",
       "      <td>2.5</td>\n",
       "    </tr>\n",
       "    <tr>\n",
       "      <th>4</th>\n",
       "      <td>53</td>\n",
       "      <td>58343.03</td>\n",
       "      <td>1.0</td>\n",
       "      <td>36.5</td>\n",
       "      <td>3.3</td>\n",
       "    </tr>\n",
       "    <tr>\n",
       "      <th>...</th>\n",
       "      <td>...</td>\n",
       "      <td>...</td>\n",
       "      <td>...</td>\n",
       "      <td>...</td>\n",
       "      <td>...</td>\n",
       "    </tr>\n",
       "    <tr>\n",
       "      <th>96</th>\n",
       "      <td>48</td>\n",
       "      <td>90964.58</td>\n",
       "      <td>2.0</td>\n",
       "      <td>38.9</td>\n",
       "      <td>3.9</td>\n",
       "    </tr>\n",
       "    <tr>\n",
       "      <th>97</th>\n",
       "      <td>58</td>\n",
       "      <td>70679.33</td>\n",
       "      <td>4.0</td>\n",
       "      <td>41.3</td>\n",
       "      <td>4.8</td>\n",
       "    </tr>\n",
       "    <tr>\n",
       "      <th>98</th>\n",
       "      <td>50</td>\n",
       "      <td>97052.37</td>\n",
       "      <td>2.0</td>\n",
       "      <td>37.1</td>\n",
       "      <td>4.6</td>\n",
       "    </tr>\n",
       "    <tr>\n",
       "      <th>99</th>\n",
       "      <td>42</td>\n",
       "      <td>46673.04</td>\n",
       "      <td>5.0</td>\n",
       "      <td>38.8</td>\n",
       "      <td>10.9</td>\n",
       "    </tr>\n",
       "    <tr>\n",
       "      <th>101</th>\n",
       "      <td>61</td>\n",
       "      <td>83082.63</td>\n",
       "      <td>4.0</td>\n",
       "      <td>35.6</td>\n",
       "      <td>3.7</td>\n",
       "    </tr>\n",
       "  </tbody>\n",
       "</table>\n",
       "<p>98 rows × 5 columns</p>\n",
       "</div>"
      ],
      "text/plain": [
       "     Age    Income  Num Children  Temperature  Rating\n",
       "0     43  45893.41           0.0         38.2     2.6\n",
       "1     56  69663.07           1.0         38.7     3.2\n",
       "2     42  45124.06           5.0         36.9     3.9\n",
       "3     37  76724.60           2.0         41.6     2.5\n",
       "4     53  58343.03           1.0         36.5     3.3\n",
       "..   ...       ...           ...          ...     ...\n",
       "96    48  90964.58           2.0         38.9     3.9\n",
       "97    58  70679.33           4.0         41.3     4.8\n",
       "98    50  97052.37           2.0         37.1     4.6\n",
       "99    42  46673.04           5.0         38.8    10.9\n",
       "101   61  83082.63           4.0         35.6     3.7\n",
       "\n",
       "[98 rows x 5 columns]"
      ]
     },
     "execution_count": 29,
     "metadata": {},
     "output_type": "execute_result"
    }
   ],
   "source": [
    "data_num"
   ]
  },
  {
   "cell_type": "code",
   "execution_count": 30,
   "id": "00574932",
   "metadata": {},
   "outputs": [],
   "source": [
    "scaling=StandardScaler()\n",
    "data_scale=pd.DataFrame(scaling.fit_transform(data_num), columns=data_num.columns)"
   ]
  },
  {
   "cell_type": "code",
   "execution_count": 31,
   "id": "eb6e8bef",
   "metadata": {},
   "outputs": [
    {
     "data": {
      "text/html": [
       "<div>\n",
       "<style scoped>\n",
       "    .dataframe tbody tr th:only-of-type {\n",
       "        vertical-align: middle;\n",
       "    }\n",
       "\n",
       "    .dataframe tbody tr th {\n",
       "        vertical-align: top;\n",
       "    }\n",
       "\n",
       "    .dataframe thead th {\n",
       "        text-align: right;\n",
       "    }\n",
       "</style>\n",
       "<table border=\"1\" class=\"dataframe\">\n",
       "  <thead>\n",
       "    <tr style=\"text-align: right;\">\n",
       "      <th></th>\n",
       "      <th>Age</th>\n",
       "      <th>Income</th>\n",
       "      <th>Num Children</th>\n",
       "      <th>Temperature</th>\n",
       "      <th>Rating</th>\n",
       "    </tr>\n",
       "  </thead>\n",
       "  <tbody>\n",
       "    <tr>\n",
       "      <th>0</th>\n",
       "      <td>0.072567</td>\n",
       "      <td>-0.572827</td>\n",
       "      <td>-0.742806</td>\n",
       "      <td>-0.106893</td>\n",
       "      <td>-0.504944</td>\n",
       "    </tr>\n",
       "    <tr>\n",
       "      <th>1</th>\n",
       "      <td>1.088503</td>\n",
       "      <td>0.497149</td>\n",
       "      <td>-0.499429</td>\n",
       "      <td>0.135596</td>\n",
       "      <td>-0.093145</td>\n",
       "    </tr>\n",
       "    <tr>\n",
       "      <th>2</th>\n",
       "      <td>-0.005582</td>\n",
       "      <td>-0.607459</td>\n",
       "      <td>0.474078</td>\n",
       "      <td>-0.737365</td>\n",
       "      <td>0.387287</td>\n",
       "    </tr>\n",
       "    <tr>\n",
       "      <th>3</th>\n",
       "      <td>-0.396327</td>\n",
       "      <td>0.815019</td>\n",
       "      <td>-0.256053</td>\n",
       "      <td>1.542034</td>\n",
       "      <td>-0.573578</td>\n",
       "    </tr>\n",
       "    <tr>\n",
       "      <th>4</th>\n",
       "      <td>0.854056</td>\n",
       "      <td>-0.012416</td>\n",
       "      <td>-0.499429</td>\n",
       "      <td>-0.931357</td>\n",
       "      <td>-0.024512</td>\n",
       "    </tr>\n",
       "    <tr>\n",
       "      <th>...</th>\n",
       "      <td>...</td>\n",
       "      <td>...</td>\n",
       "      <td>...</td>\n",
       "      <td>...</td>\n",
       "      <td>...</td>\n",
       "    </tr>\n",
       "    <tr>\n",
       "      <th>93</th>\n",
       "      <td>0.463311</td>\n",
       "      <td>1.456022</td>\n",
       "      <td>-0.256053</td>\n",
       "      <td>0.232592</td>\n",
       "      <td>0.387287</td>\n",
       "    </tr>\n",
       "    <tr>\n",
       "      <th>94</th>\n",
       "      <td>1.244800</td>\n",
       "      <td>0.542895</td>\n",
       "      <td>0.230701</td>\n",
       "      <td>1.396540</td>\n",
       "      <td>1.004986</td>\n",
       "    </tr>\n",
       "    <tr>\n",
       "      <th>95</th>\n",
       "      <td>0.619609</td>\n",
       "      <td>1.730060</td>\n",
       "      <td>-0.256053</td>\n",
       "      <td>-0.640370</td>\n",
       "      <td>0.867720</td>\n",
       "    </tr>\n",
       "    <tr>\n",
       "      <th>96</th>\n",
       "      <td>-0.005582</td>\n",
       "      <td>-0.537733</td>\n",
       "      <td>0.474078</td>\n",
       "      <td>0.184094</td>\n",
       "      <td>5.191613</td>\n",
       "    </tr>\n",
       "    <tr>\n",
       "      <th>97</th>\n",
       "      <td>1.479247</td>\n",
       "      <td>1.101221</td>\n",
       "      <td>0.230701</td>\n",
       "      <td>-1.367838</td>\n",
       "      <td>0.250021</td>\n",
       "    </tr>\n",
       "  </tbody>\n",
       "</table>\n",
       "<p>98 rows × 5 columns</p>\n",
       "</div>"
      ],
      "text/plain": [
       "         Age    Income  Num Children  Temperature    Rating\n",
       "0   0.072567 -0.572827     -0.742806    -0.106893 -0.504944\n",
       "1   1.088503  0.497149     -0.499429     0.135596 -0.093145\n",
       "2  -0.005582 -0.607459      0.474078    -0.737365  0.387287\n",
       "3  -0.396327  0.815019     -0.256053     1.542034 -0.573578\n",
       "4   0.854056 -0.012416     -0.499429    -0.931357 -0.024512\n",
       "..       ...       ...           ...          ...       ...\n",
       "93  0.463311  1.456022     -0.256053     0.232592  0.387287\n",
       "94  1.244800  0.542895      0.230701     1.396540  1.004986\n",
       "95  0.619609  1.730060     -0.256053    -0.640370  0.867720\n",
       "96 -0.005582 -0.537733      0.474078     0.184094  5.191613\n",
       "97  1.479247  1.101221      0.230701    -1.367838  0.250021\n",
       "\n",
       "[98 rows x 5 columns]"
      ]
     },
     "execution_count": 31,
     "metadata": {},
     "output_type": "execute_result"
    }
   ],
   "source": [
    "data_scale"
   ]
  },
  {
   "cell_type": "code",
   "execution_count": 34,
   "id": "0ee73ad4",
   "metadata": {},
   "outputs": [],
   "source": [
    "data_catg = data.select_dtypes(exclude = np.number)"
   ]
  },
  {
   "cell_type": "code",
   "execution_count": 35,
   "id": "c79b815b",
   "metadata": {},
   "outputs": [
    {
     "data": {
      "text/html": [
       "<div>\n",
       "<style scoped>\n",
       "    .dataframe tbody tr th:only-of-type {\n",
       "        vertical-align: middle;\n",
       "    }\n",
       "\n",
       "    .dataframe tbody tr th {\n",
       "        vertical-align: top;\n",
       "    }\n",
       "\n",
       "    .dataframe thead th {\n",
       "        text-align: right;\n",
       "    }\n",
       "</style>\n",
       "<table border=\"1\" class=\"dataframe\">\n",
       "  <thead>\n",
       "    <tr style=\"text-align: right;\">\n",
       "      <th></th>\n",
       "      <th>Is Student</th>\n",
       "    </tr>\n",
       "  </thead>\n",
       "  <tbody>\n",
       "    <tr>\n",
       "      <th>0</th>\n",
       "      <td>True</td>\n",
       "    </tr>\n",
       "    <tr>\n",
       "      <th>1</th>\n",
       "      <td>True</td>\n",
       "    </tr>\n",
       "    <tr>\n",
       "      <th>2</th>\n",
       "      <td>False</td>\n",
       "    </tr>\n",
       "    <tr>\n",
       "      <th>3</th>\n",
       "      <td>False</td>\n",
       "    </tr>\n",
       "    <tr>\n",
       "      <th>4</th>\n",
       "      <td>False</td>\n",
       "    </tr>\n",
       "    <tr>\n",
       "      <th>...</th>\n",
       "      <td>...</td>\n",
       "    </tr>\n",
       "    <tr>\n",
       "      <th>96</th>\n",
       "      <td>False</td>\n",
       "    </tr>\n",
       "    <tr>\n",
       "      <th>97</th>\n",
       "      <td>True</td>\n",
       "    </tr>\n",
       "    <tr>\n",
       "      <th>98</th>\n",
       "      <td>True</td>\n",
       "    </tr>\n",
       "    <tr>\n",
       "      <th>99</th>\n",
       "      <td>False</td>\n",
       "    </tr>\n",
       "    <tr>\n",
       "      <th>101</th>\n",
       "      <td>True</td>\n",
       "    </tr>\n",
       "  </tbody>\n",
       "</table>\n",
       "<p>98 rows × 1 columns</p>\n",
       "</div>"
      ],
      "text/plain": [
       "    Is Student\n",
       "0         True\n",
       "1         True\n",
       "2        False\n",
       "3        False\n",
       "4        False\n",
       "..         ...\n",
       "96       False\n",
       "97        True\n",
       "98        True\n",
       "99       False\n",
       "101       True\n",
       "\n",
       "[98 rows x 1 columns]"
      ]
     },
     "execution_count": 35,
     "metadata": {},
     "output_type": "execute_result"
    }
   ],
   "source": [
    "data_catg"
   ]
  },
  {
   "cell_type": "code",
   "execution_count": null,
   "id": "68c8ef43",
   "metadata": {},
   "outputs": [],
   "source": []
  }
 ],
 "metadata": {
  "kernelspec": {
   "display_name": "Python 3 (ipykernel)",
   "language": "python",
   "name": "python3"
  },
  "language_info": {
   "codemirror_mode": {
    "name": "ipython",
    "version": 3
   },
   "file_extension": ".py",
   "mimetype": "text/x-python",
   "name": "python",
   "nbconvert_exporter": "python",
   "pygments_lexer": "ipython3",
   "version": "3.10.9"
  }
 },
 "nbformat": 4,
 "nbformat_minor": 5
}
